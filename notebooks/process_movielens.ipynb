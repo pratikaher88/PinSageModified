{
 "cells": [
  {
   "cell_type": "code",
   "execution_count": 1,
   "metadata": {},
   "outputs": [
    {
     "name": "stderr",
     "output_type": "stream",
     "text": [
      "/Users/pratikaher/opt/anaconda3/envs/firstEnv/lib/python3.10/site-packages/tqdm/auto.py:22: TqdmWarning: IProgress not found. Please update jupyter and ipywidgets. See https://ipywidgets.readthedocs.io/en/stable/user_install.html\n",
      "  from .autonotebook import tqdm as notebook_tqdm\n"
     ]
    }
   ],
   "source": [
    "# built-in imports\n",
    "import os\n",
    "import re\n",
    "import argparse\n",
    "import pickle\n",
    "import sys\n",
    "\n",
    "# third-party imports\n",
    "import pandas as pd\n",
    "import numpy as np\n",
    "import scipy.sparse as ssp\n",
    "import dgl\n",
    "import torch\n",
    "import torchtext\n",
    "\n",
    "# local imports\n",
    "sys.path.insert(0, '../src/pinsage')\n",
    "import builder \n",
    "# from pinsage.data_utils import *"
   ]
  },
  {
   "cell_type": "code",
   "execution_count": 2,
   "metadata": {},
   "outputs": [],
   "source": [
    "# get directory of data files\n",
    "directory = './ml-1m'\n",
    "# get output file path\n",
    "output_path = 'processed.pkl'"
   ]
  },
  {
   "cell_type": "markdown",
   "metadata": {},
   "source": [
    "## Get Users"
   ]
  },
  {
   "cell_type": "code",
   "execution_count": 3,
   "metadata": {},
   "outputs": [],
   "source": [
    "users = []\n",
    "with open(os.path.join(directory, 'users.dat'), encoding='latin1') as f:\n",
    "    # UserID::Gender::Age::Occupation::Zip-code\n",
    "    for l in f:\n",
    "        id_, gender, age, occupation, zip_ = l.strip().split('::')\n",
    "        users.append({\n",
    "            'user_id': int(id_),\n",
    "            'gender': gender,\n",
    "            'age': age,\n",
    "            'occupation': occupation,\n",
    "            'zip': zip_,\n",
    "            })\n",
    "users = pd.DataFrame(users).astype('category')"
   ]
  },
  {
   "cell_type": "code",
   "execution_count": 4,
   "metadata": {
    "scrolled": false
   },
   "outputs": [
    {
     "data": {
      "text/html": [
       "<div>\n",
       "<style scoped>\n",
       "    .dataframe tbody tr th:only-of-type {\n",
       "        vertical-align: middle;\n",
       "    }\n",
       "\n",
       "    .dataframe tbody tr th {\n",
       "        vertical-align: top;\n",
       "    }\n",
       "\n",
       "    .dataframe thead th {\n",
       "        text-align: right;\n",
       "    }\n",
       "</style>\n",
       "<table border=\"1\" class=\"dataframe\">\n",
       "  <thead>\n",
       "    <tr style=\"text-align: right;\">\n",
       "      <th></th>\n",
       "      <th>user_id</th>\n",
       "      <th>gender</th>\n",
       "      <th>age</th>\n",
       "      <th>occupation</th>\n",
       "      <th>zip</th>\n",
       "    </tr>\n",
       "  </thead>\n",
       "  <tbody>\n",
       "    <tr>\n",
       "      <th>0</th>\n",
       "      <td>1</td>\n",
       "      <td>F</td>\n",
       "      <td>1</td>\n",
       "      <td>10</td>\n",
       "      <td>48067</td>\n",
       "    </tr>\n",
       "    <tr>\n",
       "      <th>1</th>\n",
       "      <td>2</td>\n",
       "      <td>M</td>\n",
       "      <td>56</td>\n",
       "      <td>16</td>\n",
       "      <td>70072</td>\n",
       "    </tr>\n",
       "    <tr>\n",
       "      <th>2</th>\n",
       "      <td>3</td>\n",
       "      <td>M</td>\n",
       "      <td>25</td>\n",
       "      <td>15</td>\n",
       "      <td>55117</td>\n",
       "    </tr>\n",
       "    <tr>\n",
       "      <th>3</th>\n",
       "      <td>4</td>\n",
       "      <td>M</td>\n",
       "      <td>45</td>\n",
       "      <td>7</td>\n",
       "      <td>02460</td>\n",
       "    </tr>\n",
       "    <tr>\n",
       "      <th>4</th>\n",
       "      <td>5</td>\n",
       "      <td>M</td>\n",
       "      <td>25</td>\n",
       "      <td>20</td>\n",
       "      <td>55455</td>\n",
       "    </tr>\n",
       "  </tbody>\n",
       "</table>\n",
       "</div>"
      ],
      "text/plain": [
       "  user_id gender age occupation    zip\n",
       "0       1      F   1         10  48067\n",
       "1       2      M  56         16  70072\n",
       "2       3      M  25         15  55117\n",
       "3       4      M  45          7  02460\n",
       "4       5      M  25         20  55455"
      ]
     },
     "execution_count": 4,
     "metadata": {},
     "output_type": "execute_result"
    }
   ],
   "source": [
    "users.head()"
   ]
  },
  {
   "cell_type": "code",
   "execution_count": 5,
   "metadata": {},
   "outputs": [
    {
     "name": "stdout",
     "output_type": "stream",
     "text": [
      "(6040, 5)\n",
      "user_id       category\n",
      "gender        category\n",
      "age           category\n",
      "occupation    category\n",
      "zip           category\n",
      "dtype: object\n"
     ]
    }
   ],
   "source": [
    "print(users.shape)\n",
    "print(users.dtypes)"
   ]
  },
  {
   "cell_type": "markdown",
   "metadata": {},
   "source": [
    "## Get Movies"
   ]
  },
  {
   "cell_type": "code",
   "execution_count": 6,
   "metadata": {},
   "outputs": [],
   "source": [
    "movies = []\n",
    "with open(os.path.join(directory, 'movies.dat'), encoding='latin1') as f:\n",
    "    for l in f:\n",
    "        # MovieID::Title::Genres\n",
    "        id_, title, genres = l.strip().split('::')\n",
    "        \n",
    "        # get unique genres\n",
    "        genres_set = set(genres.split('|'))\n",
    "\n",
    "        # extract year\n",
    "        assert re.match(r'.*\\([0-9]{4}\\)$', title)\n",
    "        year = title[-5:-1]\n",
    "        title = title[:-6].strip()\n",
    "\n",
    "        data = {'movie_id': int(id_), 'title': title, 'year': year}\n",
    "        for g in genres_set:\n",
    "            data[g] = True\n",
    "        movies.append(data)\n",
    "movies = pd.DataFrame(movies).astype({'year': 'category'})"
   ]
  },
  {
   "cell_type": "code",
   "execution_count": 7,
   "metadata": {
    "scrolled": false
   },
   "outputs": [
    {
     "data": {
      "text/html": [
       "<div>\n",
       "<style scoped>\n",
       "    .dataframe tbody tr th:only-of-type {\n",
       "        vertical-align: middle;\n",
       "    }\n",
       "\n",
       "    .dataframe tbody tr th {\n",
       "        vertical-align: top;\n",
       "    }\n",
       "\n",
       "    .dataframe thead th {\n",
       "        text-align: right;\n",
       "    }\n",
       "</style>\n",
       "<table border=\"1\" class=\"dataframe\">\n",
       "  <thead>\n",
       "    <tr style=\"text-align: right;\">\n",
       "      <th></th>\n",
       "      <th>movie_id</th>\n",
       "      <th>title</th>\n",
       "      <th>year</th>\n",
       "      <th>Children's</th>\n",
       "      <th>Animation</th>\n",
       "      <th>Comedy</th>\n",
       "      <th>Fantasy</th>\n",
       "      <th>Adventure</th>\n",
       "      <th>Romance</th>\n",
       "      <th>Drama</th>\n",
       "      <th>...</th>\n",
       "      <th>Action</th>\n",
       "      <th>Crime</th>\n",
       "      <th>Horror</th>\n",
       "      <th>Sci-Fi</th>\n",
       "      <th>Documentary</th>\n",
       "      <th>War</th>\n",
       "      <th>Musical</th>\n",
       "      <th>Mystery</th>\n",
       "      <th>Film-Noir</th>\n",
       "      <th>Western</th>\n",
       "    </tr>\n",
       "  </thead>\n",
       "  <tbody>\n",
       "    <tr>\n",
       "      <th>0</th>\n",
       "      <td>1</td>\n",
       "      <td>Toy Story</td>\n",
       "      <td>1995</td>\n",
       "      <td>True</td>\n",
       "      <td>True</td>\n",
       "      <td>True</td>\n",
       "      <td>NaN</td>\n",
       "      <td>NaN</td>\n",
       "      <td>NaN</td>\n",
       "      <td>NaN</td>\n",
       "      <td>...</td>\n",
       "      <td>NaN</td>\n",
       "      <td>NaN</td>\n",
       "      <td>NaN</td>\n",
       "      <td>NaN</td>\n",
       "      <td>NaN</td>\n",
       "      <td>NaN</td>\n",
       "      <td>NaN</td>\n",
       "      <td>NaN</td>\n",
       "      <td>NaN</td>\n",
       "      <td>NaN</td>\n",
       "    </tr>\n",
       "    <tr>\n",
       "      <th>1</th>\n",
       "      <td>2</td>\n",
       "      <td>Jumanji</td>\n",
       "      <td>1995</td>\n",
       "      <td>True</td>\n",
       "      <td>NaN</td>\n",
       "      <td>NaN</td>\n",
       "      <td>True</td>\n",
       "      <td>True</td>\n",
       "      <td>NaN</td>\n",
       "      <td>NaN</td>\n",
       "      <td>...</td>\n",
       "      <td>NaN</td>\n",
       "      <td>NaN</td>\n",
       "      <td>NaN</td>\n",
       "      <td>NaN</td>\n",
       "      <td>NaN</td>\n",
       "      <td>NaN</td>\n",
       "      <td>NaN</td>\n",
       "      <td>NaN</td>\n",
       "      <td>NaN</td>\n",
       "      <td>NaN</td>\n",
       "    </tr>\n",
       "    <tr>\n",
       "      <th>2</th>\n",
       "      <td>3</td>\n",
       "      <td>Grumpier Old Men</td>\n",
       "      <td>1995</td>\n",
       "      <td>NaN</td>\n",
       "      <td>NaN</td>\n",
       "      <td>True</td>\n",
       "      <td>NaN</td>\n",
       "      <td>NaN</td>\n",
       "      <td>True</td>\n",
       "      <td>NaN</td>\n",
       "      <td>...</td>\n",
       "      <td>NaN</td>\n",
       "      <td>NaN</td>\n",
       "      <td>NaN</td>\n",
       "      <td>NaN</td>\n",
       "      <td>NaN</td>\n",
       "      <td>NaN</td>\n",
       "      <td>NaN</td>\n",
       "      <td>NaN</td>\n",
       "      <td>NaN</td>\n",
       "      <td>NaN</td>\n",
       "    </tr>\n",
       "    <tr>\n",
       "      <th>3</th>\n",
       "      <td>4</td>\n",
       "      <td>Waiting to Exhale</td>\n",
       "      <td>1995</td>\n",
       "      <td>NaN</td>\n",
       "      <td>NaN</td>\n",
       "      <td>True</td>\n",
       "      <td>NaN</td>\n",
       "      <td>NaN</td>\n",
       "      <td>NaN</td>\n",
       "      <td>True</td>\n",
       "      <td>...</td>\n",
       "      <td>NaN</td>\n",
       "      <td>NaN</td>\n",
       "      <td>NaN</td>\n",
       "      <td>NaN</td>\n",
       "      <td>NaN</td>\n",
       "      <td>NaN</td>\n",
       "      <td>NaN</td>\n",
       "      <td>NaN</td>\n",
       "      <td>NaN</td>\n",
       "      <td>NaN</td>\n",
       "    </tr>\n",
       "    <tr>\n",
       "      <th>4</th>\n",
       "      <td>5</td>\n",
       "      <td>Father of the Bride Part II</td>\n",
       "      <td>1995</td>\n",
       "      <td>NaN</td>\n",
       "      <td>NaN</td>\n",
       "      <td>True</td>\n",
       "      <td>NaN</td>\n",
       "      <td>NaN</td>\n",
       "      <td>NaN</td>\n",
       "      <td>NaN</td>\n",
       "      <td>...</td>\n",
       "      <td>NaN</td>\n",
       "      <td>NaN</td>\n",
       "      <td>NaN</td>\n",
       "      <td>NaN</td>\n",
       "      <td>NaN</td>\n",
       "      <td>NaN</td>\n",
       "      <td>NaN</td>\n",
       "      <td>NaN</td>\n",
       "      <td>NaN</td>\n",
       "      <td>NaN</td>\n",
       "    </tr>\n",
       "  </tbody>\n",
       "</table>\n",
       "<p>5 rows × 21 columns</p>\n",
       "</div>"
      ],
      "text/plain": [
       "   movie_id                        title  year Children's Animation Comedy  \\\n",
       "0         1                    Toy Story  1995       True      True   True   \n",
       "1         2                      Jumanji  1995       True       NaN    NaN   \n",
       "2         3             Grumpier Old Men  1995        NaN       NaN   True   \n",
       "3         4            Waiting to Exhale  1995        NaN       NaN   True   \n",
       "4         5  Father of the Bride Part II  1995        NaN       NaN   True   \n",
       "\n",
       "  Fantasy Adventure Romance Drama  ... Action Crime Horror Sci-Fi Documentary  \\\n",
       "0     NaN       NaN     NaN   NaN  ...    NaN   NaN    NaN    NaN         NaN   \n",
       "1    True      True     NaN   NaN  ...    NaN   NaN    NaN    NaN         NaN   \n",
       "2     NaN       NaN    True   NaN  ...    NaN   NaN    NaN    NaN         NaN   \n",
       "3     NaN       NaN     NaN  True  ...    NaN   NaN    NaN    NaN         NaN   \n",
       "4     NaN       NaN     NaN   NaN  ...    NaN   NaN    NaN    NaN         NaN   \n",
       "\n",
       "   War Musical Mystery Film-Noir Western  \n",
       "0  NaN     NaN     NaN       NaN     NaN  \n",
       "1  NaN     NaN     NaN       NaN     NaN  \n",
       "2  NaN     NaN     NaN       NaN     NaN  \n",
       "3  NaN     NaN     NaN       NaN     NaN  \n",
       "4  NaN     NaN     NaN       NaN     NaN  \n",
       "\n",
       "[5 rows x 21 columns]"
      ]
     },
     "execution_count": 7,
     "metadata": {},
     "output_type": "execute_result"
    }
   ],
   "source": [
    "movies.head()"
   ]
  },
  {
   "cell_type": "code",
   "execution_count": 8,
   "metadata": {},
   "outputs": [
    {
     "name": "stdout",
     "output_type": "stream",
     "text": [
      "(3883, 21)\n",
      "movie_id          int64\n",
      "title            object\n",
      "year           category\n",
      "Children's       object\n",
      "Animation        object\n",
      "Comedy           object\n",
      "Fantasy          object\n",
      "Adventure        object\n",
      "Romance          object\n",
      "Drama            object\n",
      "Thriller         object\n",
      "Action           object\n",
      "Crime            object\n",
      "Horror           object\n",
      "Sci-Fi           object\n",
      "Documentary      object\n",
      "War              object\n",
      "Musical          object\n",
      "Mystery          object\n",
      "Film-Noir        object\n",
      "Western          object\n",
      "dtype: object\n"
     ]
    }
   ],
   "source": [
    "print(movies.shape)\n",
    "print(movies.dtypes)"
   ]
  },
  {
   "cell_type": "markdown",
   "metadata": {},
   "source": [
    "## Get Ratings (Users-Movies)"
   ]
  },
  {
   "cell_type": "code",
   "execution_count": 9,
   "metadata": {},
   "outputs": [],
   "source": [
    "ratings = []\n",
    "with open(os.path.join(directory, 'ratings.dat'), encoding='latin1') as f:\n",
    "    # UserID::MovieID::Rating::Timestamp\n",
    "    for l in f:\n",
    "        user_id, movie_id, rating, timestamp = [int(_) for _ in l.split('::')]\n",
    "        ratings.append({\n",
    "            'user_id': user_id,\n",
    "            'movie_id': movie_id,\n",
    "            'rating': rating,\n",
    "            'timestamp': timestamp,\n",
    "            })\n",
    "ratings = pd.DataFrame(ratings)"
   ]
  },
  {
   "cell_type": "code",
   "execution_count": 10,
   "metadata": {
    "scrolled": true
   },
   "outputs": [
    {
     "data": {
      "text/html": [
       "<div>\n",
       "<style scoped>\n",
       "    .dataframe tbody tr th:only-of-type {\n",
       "        vertical-align: middle;\n",
       "    }\n",
       "\n",
       "    .dataframe tbody tr th {\n",
       "        vertical-align: top;\n",
       "    }\n",
       "\n",
       "    .dataframe thead th {\n",
       "        text-align: right;\n",
       "    }\n",
       "</style>\n",
       "<table border=\"1\" class=\"dataframe\">\n",
       "  <thead>\n",
       "    <tr style=\"text-align: right;\">\n",
       "      <th></th>\n",
       "      <th>user_id</th>\n",
       "      <th>movie_id</th>\n",
       "      <th>rating</th>\n",
       "      <th>timestamp</th>\n",
       "    </tr>\n",
       "  </thead>\n",
       "  <tbody>\n",
       "    <tr>\n",
       "      <th>0</th>\n",
       "      <td>1</td>\n",
       "      <td>1193</td>\n",
       "      <td>5</td>\n",
       "      <td>978300760</td>\n",
       "    </tr>\n",
       "    <tr>\n",
       "      <th>1</th>\n",
       "      <td>1</td>\n",
       "      <td>661</td>\n",
       "      <td>3</td>\n",
       "      <td>978302109</td>\n",
       "    </tr>\n",
       "    <tr>\n",
       "      <th>2</th>\n",
       "      <td>1</td>\n",
       "      <td>914</td>\n",
       "      <td>3</td>\n",
       "      <td>978301968</td>\n",
       "    </tr>\n",
       "    <tr>\n",
       "      <th>3</th>\n",
       "      <td>1</td>\n",
       "      <td>3408</td>\n",
       "      <td>4</td>\n",
       "      <td>978300275</td>\n",
       "    </tr>\n",
       "    <tr>\n",
       "      <th>4</th>\n",
       "      <td>1</td>\n",
       "      <td>2355</td>\n",
       "      <td>5</td>\n",
       "      <td>978824291</td>\n",
       "    </tr>\n",
       "  </tbody>\n",
       "</table>\n",
       "</div>"
      ],
      "text/plain": [
       "   user_id  movie_id  rating  timestamp\n",
       "0        1      1193       5  978300760\n",
       "1        1       661       3  978302109\n",
       "2        1       914       3  978301968\n",
       "3        1      3408       4  978300275\n",
       "4        1      2355       5  978824291"
      ]
     },
     "execution_count": 10,
     "metadata": {},
     "output_type": "execute_result"
    }
   ],
   "source": [
    "ratings.head()"
   ]
  },
  {
   "cell_type": "code",
   "execution_count": 11,
   "metadata": {},
   "outputs": [
    {
     "name": "stdout",
     "output_type": "stream",
     "text": [
      "(1000209, 4)\n",
      "user_id      int64\n",
      "movie_id     int64\n",
      "rating       int64\n",
      "timestamp    int64\n",
      "dtype: object\n"
     ]
    }
   ],
   "source": [
    "print(ratings.shape)\n",
    "print(ratings.dtypes)"
   ]
  },
  {
   "cell_type": "markdown",
   "metadata": {},
   "source": [
    "## Get distinct users and movies"
   ]
  },
  {
   "cell_type": "code",
   "execution_count": 12,
   "metadata": {},
   "outputs": [],
   "source": [
    "# Filter the users and items that never appear in the rating table.\n",
    "distinct_users_in_ratings = ratings['user_id'].unique()\n",
    "distinct_movies_in_ratings = ratings['movie_id'].unique()\n",
    "users = users.copy()[users['user_id'].isin(distinct_users_in_ratings)]\n",
    "movies = movies.copy()[movies['movie_id'].isin(distinct_movies_in_ratings)]"
   ]
  },
  {
   "cell_type": "code",
   "execution_count": 13,
   "metadata": {},
   "outputs": [
    {
     "data": {
      "text/plain": [
       "20"
      ]
     },
     "execution_count": 13,
     "metadata": {},
     "output_type": "execute_result"
    }
   ],
   "source": [
    "# users have a minimum of 20 movies\n",
    "ratings.user_id.value_counts().min()"
   ]
  },
  {
   "cell_type": "code",
   "execution_count": 14,
   "metadata": {},
   "outputs": [
    {
     "data": {
      "text/plain": [
       "1"
      ]
     },
     "execution_count": 14,
     "metadata": {},
     "output_type": "execute_result"
    }
   ],
   "source": [
    "# movies have a minimum of 1 user\n",
    "ratings.movie_id.value_counts().min()"
   ]
  },
  {
   "cell_type": "code",
   "execution_count": 15,
   "metadata": {
    "scrolled": true
   },
   "outputs": [
    {
     "name": "stdout",
     "output_type": "stream",
     "text": [
      "(6040, 5)\n"
     ]
    }
   ],
   "source": [
    "print(users.shape)"
   ]
  },
  {
   "cell_type": "code",
   "execution_count": 16,
   "metadata": {},
   "outputs": [
    {
     "name": "stdout",
     "output_type": "stream",
     "text": [
      "(3706, 21)\n"
     ]
    }
   ],
   "source": [
    "print(movies.shape)"
   ]
  },
  {
   "cell_type": "code",
   "execution_count": 17,
   "metadata": {},
   "outputs": [
    {
     "data": {
      "text/plain": [
       "Index(['movie_id', 'title', 'year', 'Children's', 'Animation', 'Comedy',\n",
       "       'Fantasy', 'Adventure', 'Romance', 'Drama', 'Thriller', 'Action',\n",
       "       'Crime', 'Horror', 'Sci-Fi', 'Documentary', 'War', 'Musical', 'Mystery',\n",
       "       'Film-Noir', 'Western'],\n",
       "      dtype='object')"
      ]
     },
     "execution_count": 17,
     "metadata": {},
     "output_type": "execute_result"
    }
   ],
   "source": [
    "movies.columns"
   ]
  },
  {
   "cell_type": "code",
   "execution_count": 18,
   "metadata": {},
   "outputs": [],
   "source": [
    "# Group the movie features into genres (a vector), year (a category), title (a string)\n",
    "genre_columns = movies.columns.drop(['movie_id', 'title', 'year'])\n",
    "movies.loc[:, genre_columns] = movies.loc[:, genre_columns].fillna(False).astype(bool)\n",
    "movies_categorical = movies.drop('title', axis=1)"
   ]
  },
  {
   "cell_type": "code",
   "execution_count": 19,
   "metadata": {},
   "outputs": [],
   "source": [
    "# Build graph\n",
    "graph_builder = builder.PandasGraphBuilder()\n",
    "graph_builder.add_entities(users, 'user_id', 'user')\n",
    "graph_builder.add_entities(movies_categorical, 'movie_id', 'movie')\n",
    "graph_builder.add_binary_relations(ratings, 'user_id', 'movie_id', 'watched')\n",
    "graph_builder.add_binary_relations(ratings, 'movie_id', 'user_id', 'watched-by')"
   ]
  },
  {
   "cell_type": "code",
   "execution_count": 20,
   "metadata": {},
   "outputs": [],
   "source": [
    "g = graph_builder.build()"
   ]
  },
  {
   "cell_type": "code",
   "execution_count": 21,
   "metadata": {},
   "outputs": [
    {
     "data": {
      "text/plain": [
       "Graph(num_nodes={'movie': 3706, 'user': 6040},\n",
       "      num_edges={('movie', 'watched-by', 'user'): 1000209, ('user', 'watched', 'movie'): 1000209},\n",
       "      metagraph=[('movie', 'user', 'watched-by'), ('user', 'movie', 'watched')])"
      ]
     },
     "execution_count": 21,
     "metadata": {},
     "output_type": "execute_result"
    }
   ],
   "source": [
    "g"
   ]
  },
  {
   "cell_type": "markdown",
   "metadata": {},
   "source": [
    "## Add user node features"
   ]
  },
  {
   "cell_type": "code",
   "execution_count": 22,
   "metadata": {},
   "outputs": [],
   "source": [
    "# Assign features.\n",
    "# Note that variable-sized features such as texts or images are handled elsewhere.\n",
    "g.nodes['user'].data['gender'] = torch.LongTensor(users['gender'].cat.codes.values.copy())\n",
    "g.nodes['user'].data['age'] = torch.LongTensor(users['age'].cat.codes.values.copy())\n",
    "g.nodes['user'].data['occupation'] = torch.LongTensor(users['occupation'].cat.codes.values.copy())\n",
    "g.nodes['user'].data['zip'] = torch.LongTensor(users['zip'].cat.codes.values.copy())"
   ]
  },
  {
   "cell_type": "markdown",
   "metadata": {},
   "source": [
    "## Add movie node features"
   ]
  },
  {
   "cell_type": "code",
   "execution_count": 23,
   "metadata": {},
   "outputs": [],
   "source": [
    "g.nodes['movie'].data['year'] = torch.LongTensor(movies['year'].cat.codes.values.copy())\n",
    "g.nodes['movie'].data['genre'] = torch.FloatTensor(movies[genre_columns].values)"
   ]
  },
  {
   "cell_type": "markdown",
   "metadata": {},
   "source": [
    "## Add user-movie edge features"
   ]
  },
  {
   "cell_type": "code",
   "execution_count": 24,
   "metadata": {},
   "outputs": [],
   "source": [
    "g.edges['watched'].data['rating'] = torch.LongTensor(ratings['rating'].values)\n",
    "g.edges['watched'].data['timestamp'] = torch.LongTensor(ratings['timestamp'].values)\n",
    "g.edges['watched-by'].data['rating'] = torch.LongTensor(ratings['rating'].values)\n",
    "g.edges['watched-by'].data['timestamp'] = torch.LongTensor(ratings['timestamp'].values)"
   ]
  },
  {
   "cell_type": "markdown",
   "metadata": {},
   "source": [
    "## Train, Validation, Split by Time"
   ]
  },
  {
   "cell_type": "code",
   "execution_count": 25,
   "metadata": {
    "scrolled": false
   },
   "outputs": [
    {
     "name": "stderr",
     "output_type": "stream",
     "text": [
      "/Users/pratikaher/DGL/graph-rec/notebooks/../src/pinsage/data_utils.py:53: UserWarning: `meta` is not specified, inferred from partial data. Please provide `meta` if the result is unexpected.\n",
      "  Before: .apply(func)\n",
      "  After:  .apply(func, meta={'x': 'f8', 'y': 'f8'}) for dataframe result\n",
      "  or:     .apply(func, meta=('x', 'f8'))            for series result\n",
      "  .apply(train_test_split) \\\n"
     ]
    }
   ],
   "source": [
    "train_indices, val_indices, test_indices = train_test_split_by_time(ratings, 'timestamp', 'user_id')"
   ]
  },
  {
   "cell_type": "code",
   "execution_count": 26,
   "metadata": {},
   "outputs": [
    {
     "name": "stdout",
     "output_type": "stream",
     "text": [
      "train (988129,)\n",
      "val (6040,)\n",
      "test (6040,)\n"
     ]
    }
   ],
   "source": [
    "print(\"train\", train_indices.shape)\n",
    "print(\"val\", val_indices.shape)\n",
    "print(\"test\", test_indices.shape)"
   ]
  },
  {
   "cell_type": "markdown",
   "metadata": {},
   "source": [
    "### Build Train Graph"
   ]
  },
  {
   "cell_type": "code",
   "execution_count": 27,
   "metadata": {},
   "outputs": [
    {
     "name": "stderr",
     "output_type": "stream",
     "text": [
      "/Users/pratikaher/opt/anaconda3/envs/firstEnv/lib/python3.10/site-packages/dgl/subgraph.py:288: DGLWarning: Key word argument preserve_nodes is deprecated. Use relabel_nodes instead.\n",
      "  dgl_warning(\n"
     ]
    }
   ],
   "source": [
    "train_g = build_train_graph(g, train_indices, 'user', 'movie', 'watched', 'watched-by')\n",
    "assert train_g.out_degrees(etype='watched').min() > 0"
   ]
  },
  {
   "cell_type": "code",
   "execution_count": 28,
   "metadata": {},
   "outputs": [
    {
     "data": {
      "text/plain": [
       "Graph(num_nodes={'movie': 3706, 'user': 6040},\n",
       "      num_edges={('movie', 'watched-by', 'user'): 988129, ('user', 'watched', 'movie'): 988129},\n",
       "      metagraph=[('movie', 'user', 'watched-by'), ('user', 'movie', 'watched')])"
      ]
     },
     "execution_count": 28,
     "metadata": {},
     "output_type": "execute_result"
    }
   ],
   "source": [
    "train_g"
   ]
  },
  {
   "cell_type": "code",
   "execution_count": 29,
   "metadata": {},
   "outputs": [],
   "source": [
    "val_matrix, test_matrix = build_val_test_matrix(g, val_indices, test_indices, 'user', 'movie', 'watched')"
   ]
  },
  {
   "cell_type": "code",
   "execution_count": 30,
   "metadata": {},
   "outputs": [
    {
     "data": {
      "text/plain": [
       "<6040x3706 sparse matrix of type '<class 'numpy.int64'>'\n",
       "\twith 6040 stored elements in COOrdinate format>"
      ]
     },
     "execution_count": 30,
     "metadata": {},
     "output_type": "execute_result"
    }
   ],
   "source": [
    "val_matrix"
   ]
  },
  {
   "cell_type": "code",
   "execution_count": 31,
   "metadata": {},
   "outputs": [
    {
     "data": {
      "text/plain": [
       "<6040x3706 sparse matrix of type '<class 'numpy.int64'>'\n",
       "\twith 6040 stored elements in COOrdinate format>"
      ]
     },
     "execution_count": 31,
     "metadata": {},
     "output_type": "execute_result"
    }
   ],
   "source": [
    "test_matrix"
   ]
  },
  {
   "cell_type": "markdown",
   "metadata": {},
   "source": [
    "## Text Features"
   ]
  },
  {
   "cell_type": "code",
   "execution_count": 32,
   "metadata": {},
   "outputs": [
    {
     "data": {
      "text/plain": [
       "{'title': array(['Toy Story', 'Jumanji', 'Grumpier Old Men', ..., 'Tigerland',\n",
       "        'Two Family House', 'Contender, The'], dtype=object)}"
      ]
     },
     "execution_count": 32,
     "metadata": {},
     "output_type": "execute_result"
    }
   ],
   "source": [
    "movie_textual_dataset = {'title': movies['title'].values}\n",
    "movie_textual_dataset"
   ]
  },
  {
   "cell_type": "markdown",
   "metadata": {},
   "source": [
    "## Save processed data"
   ]
  },
  {
   "cell_type": "code",
   "execution_count": 33,
   "metadata": {},
   "outputs": [],
   "source": [
    "dataset = {\n",
    "    'train-graph': train_g,\n",
    "    'val-matrix': val_matrix,\n",
    "    'test-matrix': test_matrix,\n",
    "    'item-texts': movie_textual_dataset,\n",
    "    'item-images': None,\n",
    "    'user-type': 'user',\n",
    "    'item-type': 'movie',\n",
    "    'user-to-item-type': 'watched',\n",
    "    'item-to-user-type': 'watched-by',\n",
    "    'timestamp-edge-column': 'timestamp'}"
   ]
  },
  {
   "cell_type": "code",
   "execution_count": 34,
   "metadata": {},
   "outputs": [],
   "source": [
    "with open(output_path, 'wb') as f:\n",
    "    pickle.dump(dataset, f)"
   ]
  },
  {
   "cell_type": "code",
   "execution_count": 35,
   "metadata": {},
   "outputs": [],
   "source": [
    "# create a field\n",
    "# field = torchtext.data.Field(include_lengths=True, lower=True, batch_first=True)\n",
    "\n",
    "# create an example\n",
    "# examples = [torchtext.data.Example.fromlist([t], [('title', title_field)]) for t in texts]\n",
    "\n",
    "# craete a title dataset\n",
    "# titleset = torchtext.data.Dataset(examples, [('title', title_field)])\n",
    "\n",
    "# build vocab based on title dataset\n",
    "# field.build_vocab(titleset.title, vectors='fasttext.simple.300d\n",
    "\n",
    "# get token_ids, and lengths\n",
    "# token_ids, lengths = field.process([examples[0].title, examples[1].title])"
   ]
  }
 ],
 "metadata": {
  "kernelspec": {
   "display_name": "firstEnv",
   "language": "python",
   "name": "firstenv"
  },
  "language_info": {
   "codemirror_mode": {
    "name": "ipython",
    "version": 3
   },
   "file_extension": ".py",
   "mimetype": "text/x-python",
   "name": "python",
   "nbconvert_exporter": "python",
   "pygments_lexer": "ipython3",
   "version": "3.10.6"
  }
 },
 "nbformat": 4,
 "nbformat_minor": 4
}
